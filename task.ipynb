{
 "cells": [
  {
   "cell_type": "markdown",
   "metadata": {},
   "source": [
    "# put"
   ]
  },
  {
   "cell_type": "code",
   "execution_count": 36,
   "metadata": {},
   "outputs": [
    {
     "name": "stdout",
     "output_type": "stream",
     "text": [
      "{'new names': ''}\n",
      "{'args': {'new names': ''}, 'data': '', 'files': {}, 'form': {}, 'headers': {'Accept': '*/*', 'Accept-Encoding': 'gzip, deflate, br, zstd', 'Content-Length': '0', 'Host': 'httpbin.org', 'U1': 'nanu', 'U12': 'nanu2', 'U13': 'nanu3', 'U14': 'nanu4', 'U15': 'nanu5', 'User-Agent': 'python-requests/2.32.2', 'X-Amzn-Trace-Id': 'Root=1-66d6d8f1-6a56588b4b927f624baabe91'}, 'json': None, 'origin': '49.15.244.152', 'url': 'https://httpbin.org/put?new names'}\n"
     ]
    }
   ],
   "source": [
    "import requests\n",
    "puturl=\"https://httpbin.org/put?new names\"\n",
    "data = {\n",
    "  \"u1\": \"nanu\",\n",
    "  \"u12\": \"nanu2\",\n",
    "  \"u13\": \"nanu3\",\n",
    "  \"u14\": \"nanu4\",\n",
    "  \"u15\": \"nanu5\",\n",
    "}\n",
    "a = requests.put(url=puturl, headers=data)\n",
    "\n",
    "company= a.json()\n",
    "\n",
    "print(company['args'])\n",
    "a.content\n",
    "print(company)"
   ]
  },
  {
   "cell_type": "markdown",
   "metadata": {},
   "source": [
    "# delete"
   ]
  },
  {
   "cell_type": "code",
   "execution_count": 45,
   "metadata": {},
   "outputs": [
    {
     "name": "stdout",
     "output_type": "stream",
     "text": [
      "<!DOCTYPE HTML PUBLIC \"-//W3C//DTD HTML 3.2 Final//EN\">\n",
      "<title>405 Method Not Allowed</title>\n",
      "<h1>Method Not Allowed</h1>\n",
      "<p>The method is not allowed for the requested URL.</p>\n",
      "\n"
     ]
    }
   ],
   "source": [
    "all_company = requests.delete('https://httpbin.org/put?new names')\n",
    "print(all_company.text)\n"
   ]
  },
  {
   "cell_type": "code",
   "execution_count": 47,
   "metadata": {},
   "outputs": [
    {
     "name": "stdout",
     "output_type": "stream",
     "text": [
      "200: OK\n"
     ]
    }
   ],
   "source": [
    "a = requests.delete(\"https://httpbin.org/delete\")\n",
    "\n",
    "print(f\"{a.status_code}: {a.reason}\")"
   ]
  },
  {
   "cell_type": "markdown",
   "metadata": {},
   "source": [
    "# patch"
   ]
  },
  {
   "cell_type": "code",
   "execution_count": 44,
   "metadata": {},
   "outputs": [
    {
     "ename": "NameError",
     "evalue": "name 'patch' is not defined",
     "output_type": "error",
     "traceback": [
      "\u001b[1;31m---------------------------------------------------------------------------\u001b[0m",
      "\u001b[1;31mNameError\u001b[0m                                 Traceback (most recent call last)",
      "Cell \u001b[1;32mIn[44], line 2\u001b[0m\n\u001b[0;32m      1\u001b[0m original \u001b[38;5;241m=\u001b[39m data\u001b[38;5;241m.\u001b[39mcopy()\n\u001b[1;32m----> 2\u001b[0m \u001b[38;5;28;01mwith\u001b[39;00m \u001b[43mpatch\u001b[49m\u001b[38;5;241m.\u001b[39mdict(foo, {\u001b[38;5;124m'\u001b[39m\u001b[38;5;124mu16\u001b[39m\u001b[38;5;124m'\u001b[39m: \u001b[38;5;124m'\u001b[39m\u001b[38;5;124mnanu6\u001b[39m\u001b[38;5;124m'\u001b[39m}, clear\u001b[38;5;241m=\u001b[39m\u001b[38;5;28;01mTrue\u001b[39;00m):\n\u001b[0;32m      3\u001b[0m     \u001b[38;5;28;01massert\u001b[39;00m data \u001b[38;5;241m==\u001b[39m {\u001b[38;5;124m'\u001b[39m\u001b[38;5;124mu16\u001b[39m\u001b[38;5;124m'\u001b[39m: \u001b[38;5;124m'\u001b[39m\u001b[38;5;124mnanu6\u001b[39m\u001b[38;5;124m'\u001b[39m}\n\u001b[0;32m      5\u001b[0m \u001b[38;5;28;01massert\u001b[39;00m foo \u001b[38;5;241m==\u001b[39m original\n",
      "\u001b[1;31mNameError\u001b[0m: name 'patch' is not defined"
     ]
    }
   ],
   "source": [
    "original = data.copy()\n",
    "with patch.dict(foo, {'u16': 'nanu6'}, clear=True):\n",
    "    assert data == {'u16': 'nanu6'}\n",
    "\n",
    "assert foo == original"
   ]
  }
 ],
 "metadata": {
  "kernelspec": {
   "display_name": "Python 3",
   "language": "python",
   "name": "python3"
  },
  "language_info": {
   "codemirror_mode": {
    "name": "ipython",
    "version": 3
   },
   "file_extension": ".py",
   "mimetype": "text/x-python",
   "name": "python",
   "nbconvert_exporter": "python",
   "pygments_lexer": "ipython3",
   "version": "3.12.4"
  }
 },
 "nbformat": 4,
 "nbformat_minor": 2
}
